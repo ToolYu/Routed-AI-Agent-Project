{
  "nbformat": 4,
  "nbformat_minor": 0,
  "metadata": {
    "colab": {
      "provenance": []
    },
    "kernelspec": {
      "name": "python3",
      "display_name": "Python 3"
    },
    "language_info": {
      "name": "python"
    }
  },
  "cells": [
    {
      "cell_type": "code",
      "execution_count": 1,
      "metadata": {
        "id": "t686OY8MqgjP"
      },
      "outputs": [],
      "source": [
        "import pandas as pd\n",
        "import numpy as np"
      ]
    },
    {
      "cell_type": "code",
      "source": [
        "# users = pd.read_csv('users.csv', on_bad_lines='skip')\n",
        "users = pd.read_csv(\"users.csv\", encoding=\"latin1\")"
      ],
      "metadata": {
        "id": "DHf2TqojsQjD"
      },
      "execution_count": 2,
      "outputs": []
    },
    {
      "cell_type": "code",
      "source": [
        "positions = pd.read_csv('positions.csv')"
      ],
      "metadata": {
        "id": "N2LxdAgwN3he"
      },
      "execution_count": 3,
      "outputs": []
    },
    {
      "cell_type": "code",
      "source": [
        "edu = pd.read_csv('edu.csv')"
      ],
      "metadata": {
        "id": "SE5GxoTLN5LO"
      },
      "execution_count": 4,
      "outputs": []
    },
    {
      "cell_type": "code",
      "source": [
        "print(\"--- Data Shape ---\")\n",
        "print(f\"Users: {users.shape}\")\n",
        "print(f\"Positions: {positions.shape}\")\n",
        "print(f\"Education: {edu.shape}\\n\")"
      ],
      "metadata": {
        "colab": {
          "base_uri": "https://localhost:8080/"
        },
        "id": "u5PQf5Gasc0a",
        "outputId": "86b22f32-6912-422b-a845-ae7775faed4a"
      },
      "execution_count": 5,
      "outputs": [
        {
          "output_type": "stream",
          "name": "stdout",
          "text": [
            "--- Data Shape ---\n",
            "Users: (273074, 29)\n",
            "Positions: (39066, 35)\n",
            "Education: (11401, 25)\n",
            "\n"
          ]
        }
      ]
    },
    {
      "cell_type": "code",
      "source": [
        "# --- Step 1: Standardize Column Names ---\n",
        "# Best practice: Convert all column names to lowercase to avoid case sensitivity issues.\n",
        "print(\"Step 1: Standardizing column names to lowercase...\")\n",
        "users.columns = users.columns.str.lower()\n",
        "positions.columns = positions.columns.str.lower()\n",
        "edu.columns = edu.columns.str.lower()\n",
        "print(\"Column names standardized.\\n\")"
      ],
      "metadata": {
        "colab": {
          "base_uri": "https://localhost:8080/"
        },
        "id": "rLyEDZFgtfRl",
        "outputId": "b40f26d4-d086-4f95-8d2f-b43ceeaebef0"
      },
      "execution_count": 6,
      "outputs": [
        {
          "output_type": "stream",
          "name": "stdout",
          "text": [
            "Step 1: Standardizing column names to lowercase...\n",
            "Column names standardized.\n",
            "\n"
          ]
        }
      ]
    },
    {
      "cell_type": "code",
      "source": [
        "users['updated_dt'] = pd.to_datetime(users['updated_dt'], errors='coerce')\n",
        "users_sorted = users.sort_values(by=['user_id', 'updated_dt'], ascending=[True, False])\n",
        "users_deduplicated = users_sorted.drop_duplicates(subset='user_id', keep='first').copy()\n",
        "print(f\"\\n After deduplication, the shape of the users table: {users_deduplicated.shape}\")\n",
        "print(f\"After deduplication, the number of unique IDs in the users table: {users_deduplicated['user_id'].nunique()}\")\n",
        "print(\"✅ The 'users' table has only one record for each user_id.\\n\")"
      ],
      "metadata": {
        "colab": {
          "base_uri": "https://localhost:8080/"
        },
        "id": "bRb38oVpAREz",
        "outputId": "a1c3204b-c664-423d-a2bf-c17f4615c21c"
      },
      "execution_count": 7,
      "outputs": [
        {
          "output_type": "stream",
          "name": "stdout",
          "text": [
            "\n",
            " After deduplication, the shape of the users table: (4757, 29)\n",
            "After deduplication, the number of unique IDs in the users table: 4757\n",
            "✅ The 'users' table has only one record for each user_id.\n",
            "\n"
          ]
        }
      ]
    },
    {
      "cell_type": "code",
      "source": [
        "# --- 步骤 1: 筛选用户并选择特征 ---\n",
        "\n",
        "# 1a. 筛选掉 is_bad_user 为 True 的用户\n",
        "users_cleaned = users_deduplicated[users_deduplicated['is_bad_user'] == False].copy()\n",
        "edu_cleaned = edu[edu['is_bad_user'] == False].copy()\n",
        "print(f\"Shape of the filtered users table: {users_cleaned.shape}\")\n",
        "print(f\"Shape of the filtered edu table: {edu_cleaned.shape}\\n\")\n",
        "\n",
        "\n",
        "# 1b. 定义并保留我们需要的特征列\n",
        "user_features = [\n",
        "    'user_id', 'numconnections', 'f_prob', 'm_prob', 'white_prob', 'black_prob',\n",
        "    'api_prob', 'hispanic_prob', 'native_prob', 'multiple_prob',\n",
        "    'highest_degree', 'currentindustry'\n",
        "]\n",
        "position_features = [\n",
        "    'user_id', 'company_cleaned', 'region', 'country', 'state', 'city',\n",
        "    'mapped_role', 'seniority', 'total_compensation', 'rn',\n",
        "    'ultimate_parent_company_name', 'startdate', 'enddate'\n",
        "]\n",
        "edu_features = [\n",
        "    'user_id', 'campus_cleaned', 'field_raw', 'degree', 'enddate'\n",
        "]\n",
        "\n",
        "users_final = users_cleaned[user_features].copy()\n",
        "positions_final = positions[position_features].copy()\n",
        "edu_final = edu_cleaned[edu_features].copy()\n",
        "\n",
        "print(f\"Shape of the filtered users_final table: {users_final.shape}\")\n",
        "print(f\"Shape of the filtered positions_final table: {positions_final.shape}\")\n",
        "print(f\"Shape of the filtered edu_final table: {edu_final.shape}\\n\")\n",
        "print(\"Feature selection complete.\")"
      ],
      "metadata": {
        "colab": {
          "base_uri": "https://localhost:8080/"
        },
        "id": "-rZ30-I7sgVX",
        "outputId": "3a1e24d3-02ce-4fc7-b5a0-015844deb393"
      },
      "execution_count": 8,
      "outputs": [
        {
          "output_type": "stream",
          "name": "stdout",
          "text": [
            "Shape of the filtered users table: (4755, 29)\n",
            "Shape of the filtered edu table: (11398, 25)\n",
            "\n",
            "Shape of the filtered users_final table: (4755, 12)\n",
            "Shape of the filtered positions_final table: (39066, 13)\n",
            "Shape of the filtered edu_final table: (11398, 5)\n",
            "\n",
            "Feature selection complete.\n"
          ]
        }
      ]
    },
    {
      "cell_type": "code",
      "source": [
        "# --- 步骤 2: 创建新特征 - total_experience_years ---\n",
        "\n",
        "# 2a. 将 start_date 和 end_date 转换为日期格式\n",
        "# errors='coerce' 会将无法转换的日期变成 NaT (Not a Time)，避免程序出错\n",
        "positions_final['startdate'] = pd.to_datetime(positions_final['startdate'], errors='coerce')\n",
        "positions_final['enddate'] = pd.to_datetime(positions_final['enddate'], errors='coerce')\n",
        "\n",
        "# 2b. 计算每段职位的时长（天数）\n",
        "positions_final['duration_days'] = (positions_final['enddate'] - positions_final['startdate']).dt.days\n",
        "\n",
        "# 2c. 按 user_id 分组，计算总天数，然后转换为年\n",
        "# 使用 dropna() 确保在计算 sum 之前去掉无效的时长\n",
        "experience = positions_final.dropna(subset=['duration_days']).groupby('user_id')['duration_days'].sum().reset_index()\n",
        "experience['total_experience_years'] = experience['duration_days'] / 365.25 # 使用365.25更精确\n",
        "experience['total_experience_years'] = experience['total_experience_years'].round(2)\n",
        "\n",
        "# 2d. 将新特征合并回我们的主 users 表\n",
        "users_final = pd.merge(users_final, experience[['user_id', 'total_experience_years']], on='user_id', how='left')\n",
        "\n",
        "print(\"total_experience_years calculated and merged completed\")\n",
        "print(users_final[['user_id', 'total_experience_years']].head(), \"\\n\")"
      ],
      "metadata": {
        "colab": {
          "base_uri": "https://localhost:8080/"
        },
        "id": "gLzlZX_KsrZO",
        "outputId": "b9f551d6-f5f1-4f23-9952-4eb5f28357ce"
      },
      "execution_count": 9,
      "outputs": [
        {
          "output_type": "stream",
          "name": "stdout",
          "text": [
            "total_experience_years calculated and merged completed\n",
            "   user_id  total_experience_years\n",
            "0  1241390                    7.00\n",
            "1  1249886                    4.75\n",
            "2  1284328                    6.75\n",
            "3  1490244                    5.17\n",
            "4  1511359                    7.49 \n",
            "\n"
          ]
        }
      ]
    },
    {
      "cell_type": "code",
      "source": [
        "# --- 步骤 3: 聚合职位和教育信息 ---\n",
        "# 我们的目标是每个用户只有一行，所以需要从多条职位/教育记录中选择最相关的一条。\n",
        "\n",
        "print(\"Step 3: Aggregating latest position and education info...\")\n",
        "\n",
        "# 3a. Create latest_positions: Ensure it has unique user_ids\n",
        "# Sort by user_id, then by 'rn' descending to get the latest position first\n",
        "latest_positions = positions_final.sort_values(by=['user_id', 'rn'], ascending=[True, False])\n",
        "# Use drop_duplicates to keep only the first record for each user (which is now the latest)\n",
        "latest_positions = latest_positions.drop_duplicates(subset='user_id', keep='first').copy()\n",
        "# Drop columns that are no longer needed\n",
        "latest_positions = latest_positions.drop(columns=['startdate', 'enddate', 'rn', 'duration_days'])\n",
        "\n",
        "\n",
        "print(f\"\\n After deduplication, the shape of the `latest_positions` table: {latest_positions.shape}\")\n",
        "print(f\"After deduplication, the unique id count in the `latest_positions` table: {latest_positions['user_id'].nunique()}\")\n",
        "print(\"✅ The latest_positions table shows that there is only one record for each user_id.。\\n\")"
      ],
      "metadata": {
        "colab": {
          "base_uri": "https://localhost:8080/"
        },
        "id": "iDhlnzKWs0vV",
        "outputId": "4d5ed473-09ea-45e7-d103-6e530ca7413b"
      },
      "execution_count": 10,
      "outputs": [
        {
          "output_type": "stream",
          "name": "stdout",
          "text": [
            "Step 3: Aggregating latest position and education info...\n",
            "\n",
            " After deduplication, the shape of the `latest_positions` table: (4655, 10)\n",
            "After deduplication, the unique id count in the `latest_positions` table: 4655\n",
            "✅ The latest_positions table shows that there is only one record for each user_id.。\n",
            "\n"
          ]
        }
      ]
    },
    {
      "cell_type": "code",
      "source": [
        "# 3b. Create latest_edu: Ensure it has unique user_ids\n",
        "edu_final['enddate'] = pd.to_datetime(edu_final['enddate'], errors='coerce')\n",
        "# Sort by user_id, then by 'enddate' descending to get the most recent education first\n",
        "latest_edu = edu_final.sort_values(by=['user_id', 'enddate'], ascending=[True, False])\n",
        "# Use drop_duplicates to keep only the first record for each user\n",
        "latest_edu = latest_edu.drop_duplicates(subset='user_id', keep='first').copy()\n",
        "# Drop the helper column\n",
        "latest_edu = latest_edu.drop(columns=['enddate'])\n",
        "\n",
        "print(f\"\\n After deduplication, the shape of the `latest_edu` table: {latest_edu.shape}\")\n",
        "print(f\"After deduplication, the unique id count in the `latest_edu` table: {latest_edu['user_id'].nunique()}\")\n",
        "print(\"✅ The latest_edu table shows that there is only one record for each user_id.\\n\")"
      ],
      "metadata": {
        "colab": {
          "base_uri": "https://localhost:8080/"
        },
        "id": "tuNbqQFXBllh",
        "outputId": "29891d7e-34dd-46b9-cc25-e1f3a2b08dae"
      },
      "execution_count": 11,
      "outputs": [
        {
          "output_type": "stream",
          "name": "stdout",
          "text": [
            "\n",
            " After deduplication, the shape of the `latest_edu` table: (4519, 4)\n",
            "After deduplication, the unique id count in the `latest_edu` table: 4519\n",
            "✅ The latest_edu table shows that there is only one record for each user_id.\n",
            "\n"
          ]
        }
      ]
    },
    {
      "cell_type": "code",
      "source": [
        "print(\"  - Merging all data....\")\n",
        "# Perform the first LEFT merge\n",
        "user_feature_table = pd.merge(users_final, latest_positions, on='user_id', how='left')\n",
        "\n",
        "# Perform the second LEFT merge\n",
        "user_feature_table = pd.merge(user_feature_table, latest_edu, on='user_id', how='left')"
      ],
      "metadata": {
        "colab": {
          "base_uri": "https://localhost:8080/"
        },
        "id": "PioqdSfo_0yl",
        "outputId": "bd3ef340-ccd5-4a31-ce32-f1bed33c26c4"
      },
      "execution_count": 12,
      "outputs": [
        {
          "output_type": "stream",
          "name": "stdout",
          "text": [
            "  - Merging all data....\n"
          ]
        }
      ]
    },
    {
      "cell_type": "code",
      "source": [
        "print(f\"Filtered users_final table shape: {users_final.shape}\\n\")\n",
        "print(f\"Filtered positions_final table shape: {positions_final.shape}\\n\")\n",
        "print(f\"Filtered edu_final table shape: {edu_final.shape}\\n\")\n",
        "print(f\"user_feature_table table shape: {user_feature_table.shape}\\n\")"
      ],
      "metadata": {
        "colab": {
          "base_uri": "https://localhost:8080/"
        },
        "id": "clixPegqE9a1",
        "outputId": "3d17602c-a10d-4347-cc53-da592fd5a957"
      },
      "execution_count": 13,
      "outputs": [
        {
          "output_type": "stream",
          "name": "stdout",
          "text": [
            "Filtered users_final table shape: (4755, 13)\n",
            "\n",
            "Filtered positions_final table shape: (39066, 14)\n",
            "\n",
            "Filtered edu_final table shape: (11398, 5)\n",
            "\n",
            "user_feature_table table shape: (4755, 25)\n",
            "\n"
          ]
        }
      ]
    },
    {
      "cell_type": "code",
      "source": [
        "# --- Final Verification ---\n",
        "print(\"\\n--- Verification After Fix ---\")\n",
        "total_rows = len(user_feature_table)\n",
        "unique_users = user_feature_table['user_id'].nunique()\n",
        "\n",
        "print(f\"Final table total rows: {total_rows}\")\n",
        "print(f\"Final table unique user_ids: {unique_users}\")"
      ],
      "metadata": {
        "colab": {
          "base_uri": "https://localhost:8080/"
        },
        "id": "aILtQCTn_2F6",
        "outputId": "ea02ce9b-c1d4-426c-8655-72ad496eb35d"
      },
      "execution_count": 14,
      "outputs": [
        {
          "output_type": "stream",
          "name": "stdout",
          "text": [
            "\n",
            "--- Verification After Fix ---\n",
            "Final table total rows: 4755\n",
            "Final table unique user_ids: 4755\n"
          ]
        }
      ]
    },
    {
      "cell_type": "code",
      "source": [
        "# --- 步骤 4: 构建最终的用户特征宽表 ---\n",
        "print(\"步骤 4: Build the final user feature table...\")\n",
        "print(f\"Final table shape: {user_feature_table.shape}\")\n",
        "print(\"\\nFinal table preview:\")\n",
        "from IPython.display import display\n",
        "display(user_feature_table.head())\n",
        "\n",
        "print(\"\\n Table information overview:\")\n",
        "user_feature_table.info()"
      ],
      "metadata": {
        "colab": {
          "base_uri": "https://localhost:8080/",
          "height": 1000
        },
        "id": "S3JKMV7Gs3BT",
        "outputId": "1357f7bc-a55b-4171-c098-59fd0e22bd7c"
      },
      "execution_count": 15,
      "outputs": [
        {
          "output_type": "stream",
          "name": "stdout",
          "text": [
            "步骤 4: Build the final user feature table...\n",
            "Final table shape: (4755, 25)\n",
            "\n",
            "Final table preview:\n"
          ]
        },
        {
          "output_type": "display_data",
          "data": {
            "text/plain": [
              "   user_id  numconnections    f_prob    m_prob  white_prob  black_prob  \\\n",
              "0  1241390             500  0.004899  0.995101       0.993       0.001   \n",
              "1  1249886             439  0.004071  0.995929       0.980       0.018   \n",
              "2  1284328             384  0.576329  0.423671       0.030       0.538   \n",
              "3  1490244             217  0.405578  0.594422       0.008       0.001   \n",
              "4  1511359             274  0.998887  0.001113       0.988       0.010   \n",
              "\n",
              "   api_prob  hispanic_prob  native_prob  multiple_prob  ...        country  \\\n",
              "0     0.001          0.003        0.001          0.001  ...  United States   \n",
              "1     0.001          0.001        0.000          0.000  ...  United States   \n",
              "2     0.354          0.002        0.009          0.067  ...  United States   \n",
              "3     0.980          0.000        0.000          0.011  ...  United States   \n",
              "4     0.001          0.001        0.000          0.000  ...  United States   \n",
              "\n",
              "      state           city         mapped_role seniority total_compensation  \\\n",
              "0  New York  New York City     media relations       5.0      196593.703125   \n",
              "1  New York  New York City            producer       5.0      412561.937500   \n",
              "2  New York  New York City            teaching       4.0      129657.320312   \n",
              "3  New York  New York City  research scientist       2.0      165176.078125   \n",
              "4  New York  New York City            research       1.0      108993.890625   \n",
              "\n",
              "                        ultimate_parent_company_name  \\\n",
              "0                                 SBI Holdings Corp.   \n",
              "1                                         Adolescent   \n",
              "2   The NewYork-Presbyterian Healthcare System, Inc.   \n",
              "3                               Meta Platforms, Inc.   \n",
              "4  The Trustees of Columbia University in The Cit...   \n",
              "\n",
              "                                      campus_cleaned  \\\n",
              "0                         texas christian university   \n",
              "1            parsons school of design the new school   \n",
              "2                           banaras hindu university   \n",
              "3                              iowa state university   \n",
              "4  california polytechnic state university san lu...   \n",
              "\n",
              "                                field_raw    degree  \n",
              "0                 Strategic Communication  Bachelor  \n",
              "1                             Photography  Bachelor  \n",
              "2                           Biotechnology    Doctor  \n",
              "3  Electrical and Electronics Engineering    Doctor  \n",
              "4                             Mathematics  Bachelor  \n",
              "\n",
              "[5 rows x 25 columns]"
            ],
            "text/html": [
              "\n",
              "  <div id=\"df-1cd0ed3a-4de4-4c46-b1a4-d36f6ca84dd4\" class=\"colab-df-container\">\n",
              "    <div>\n",
              "<style scoped>\n",
              "    .dataframe tbody tr th:only-of-type {\n",
              "        vertical-align: middle;\n",
              "    }\n",
              "\n",
              "    .dataframe tbody tr th {\n",
              "        vertical-align: top;\n",
              "    }\n",
              "\n",
              "    .dataframe thead th {\n",
              "        text-align: right;\n",
              "    }\n",
              "</style>\n",
              "<table border=\"1\" class=\"dataframe\">\n",
              "  <thead>\n",
              "    <tr style=\"text-align: right;\">\n",
              "      <th></th>\n",
              "      <th>user_id</th>\n",
              "      <th>numconnections</th>\n",
              "      <th>f_prob</th>\n",
              "      <th>m_prob</th>\n",
              "      <th>white_prob</th>\n",
              "      <th>black_prob</th>\n",
              "      <th>api_prob</th>\n",
              "      <th>hispanic_prob</th>\n",
              "      <th>native_prob</th>\n",
              "      <th>multiple_prob</th>\n",
              "      <th>...</th>\n",
              "      <th>country</th>\n",
              "      <th>state</th>\n",
              "      <th>city</th>\n",
              "      <th>mapped_role</th>\n",
              "      <th>seniority</th>\n",
              "      <th>total_compensation</th>\n",
              "      <th>ultimate_parent_company_name</th>\n",
              "      <th>campus_cleaned</th>\n",
              "      <th>field_raw</th>\n",
              "      <th>degree</th>\n",
              "    </tr>\n",
              "  </thead>\n",
              "  <tbody>\n",
              "    <tr>\n",
              "      <th>0</th>\n",
              "      <td>1241390</td>\n",
              "      <td>500</td>\n",
              "      <td>0.004899</td>\n",
              "      <td>0.995101</td>\n",
              "      <td>0.993</td>\n",
              "      <td>0.001</td>\n",
              "      <td>0.001</td>\n",
              "      <td>0.003</td>\n",
              "      <td>0.001</td>\n",
              "      <td>0.001</td>\n",
              "      <td>...</td>\n",
              "      <td>United States</td>\n",
              "      <td>New York</td>\n",
              "      <td>New York City</td>\n",
              "      <td>media relations</td>\n",
              "      <td>5.0</td>\n",
              "      <td>196593.703125</td>\n",
              "      <td>SBI Holdings Corp.</td>\n",
              "      <td>texas christian university</td>\n",
              "      <td>Strategic Communication</td>\n",
              "      <td>Bachelor</td>\n",
              "    </tr>\n",
              "    <tr>\n",
              "      <th>1</th>\n",
              "      <td>1249886</td>\n",
              "      <td>439</td>\n",
              "      <td>0.004071</td>\n",
              "      <td>0.995929</td>\n",
              "      <td>0.980</td>\n",
              "      <td>0.018</td>\n",
              "      <td>0.001</td>\n",
              "      <td>0.001</td>\n",
              "      <td>0.000</td>\n",
              "      <td>0.000</td>\n",
              "      <td>...</td>\n",
              "      <td>United States</td>\n",
              "      <td>New York</td>\n",
              "      <td>New York City</td>\n",
              "      <td>producer</td>\n",
              "      <td>5.0</td>\n",
              "      <td>412561.937500</td>\n",
              "      <td>Adolescent</td>\n",
              "      <td>parsons school of design the new school</td>\n",
              "      <td>Photography</td>\n",
              "      <td>Bachelor</td>\n",
              "    </tr>\n",
              "    <tr>\n",
              "      <th>2</th>\n",
              "      <td>1284328</td>\n",
              "      <td>384</td>\n",
              "      <td>0.576329</td>\n",
              "      <td>0.423671</td>\n",
              "      <td>0.030</td>\n",
              "      <td>0.538</td>\n",
              "      <td>0.354</td>\n",
              "      <td>0.002</td>\n",
              "      <td>0.009</td>\n",
              "      <td>0.067</td>\n",
              "      <td>...</td>\n",
              "      <td>United States</td>\n",
              "      <td>New York</td>\n",
              "      <td>New York City</td>\n",
              "      <td>teaching</td>\n",
              "      <td>4.0</td>\n",
              "      <td>129657.320312</td>\n",
              "      <td>The NewYork-Presbyterian Healthcare System, Inc.</td>\n",
              "      <td>banaras hindu university</td>\n",
              "      <td>Biotechnology</td>\n",
              "      <td>Doctor</td>\n",
              "    </tr>\n",
              "    <tr>\n",
              "      <th>3</th>\n",
              "      <td>1490244</td>\n",
              "      <td>217</td>\n",
              "      <td>0.405578</td>\n",
              "      <td>0.594422</td>\n",
              "      <td>0.008</td>\n",
              "      <td>0.001</td>\n",
              "      <td>0.980</td>\n",
              "      <td>0.000</td>\n",
              "      <td>0.000</td>\n",
              "      <td>0.011</td>\n",
              "      <td>...</td>\n",
              "      <td>United States</td>\n",
              "      <td>New York</td>\n",
              "      <td>New York City</td>\n",
              "      <td>research scientist</td>\n",
              "      <td>2.0</td>\n",
              "      <td>165176.078125</td>\n",
              "      <td>Meta Platforms, Inc.</td>\n",
              "      <td>iowa state university</td>\n",
              "      <td>Electrical and Electronics Engineering</td>\n",
              "      <td>Doctor</td>\n",
              "    </tr>\n",
              "    <tr>\n",
              "      <th>4</th>\n",
              "      <td>1511359</td>\n",
              "      <td>274</td>\n",
              "      <td>0.998887</td>\n",
              "      <td>0.001113</td>\n",
              "      <td>0.988</td>\n",
              "      <td>0.010</td>\n",
              "      <td>0.001</td>\n",
              "      <td>0.001</td>\n",
              "      <td>0.000</td>\n",
              "      <td>0.000</td>\n",
              "      <td>...</td>\n",
              "      <td>United States</td>\n",
              "      <td>New York</td>\n",
              "      <td>New York City</td>\n",
              "      <td>research</td>\n",
              "      <td>1.0</td>\n",
              "      <td>108993.890625</td>\n",
              "      <td>The Trustees of Columbia University in The Cit...</td>\n",
              "      <td>california polytechnic state university san lu...</td>\n",
              "      <td>Mathematics</td>\n",
              "      <td>Bachelor</td>\n",
              "    </tr>\n",
              "  </tbody>\n",
              "</table>\n",
              "<p>5 rows × 25 columns</p>\n",
              "</div>\n",
              "    <div class=\"colab-df-buttons\">\n",
              "\n",
              "  <div class=\"colab-df-container\">\n",
              "    <button class=\"colab-df-convert\" onclick=\"convertToInteractive('df-1cd0ed3a-4de4-4c46-b1a4-d36f6ca84dd4')\"\n",
              "            title=\"Convert this dataframe to an interactive table.\"\n",
              "            style=\"display:none;\">\n",
              "\n",
              "  <svg xmlns=\"http://www.w3.org/2000/svg\" height=\"24px\" viewBox=\"0 -960 960 960\">\n",
              "    <path d=\"M120-120v-720h720v720H120Zm60-500h600v-160H180v160Zm220 220h160v-160H400v160Zm0 220h160v-160H400v160ZM180-400h160v-160H180v160Zm440 0h160v-160H620v160ZM180-180h160v-160H180v160Zm440 0h160v-160H620v160Z\"/>\n",
              "  </svg>\n",
              "    </button>\n",
              "\n",
              "  <style>\n",
              "    .colab-df-container {\n",
              "      display:flex;\n",
              "      gap: 12px;\n",
              "    }\n",
              "\n",
              "    .colab-df-convert {\n",
              "      background-color: #E8F0FE;\n",
              "      border: none;\n",
              "      border-radius: 50%;\n",
              "      cursor: pointer;\n",
              "      display: none;\n",
              "      fill: #1967D2;\n",
              "      height: 32px;\n",
              "      padding: 0 0 0 0;\n",
              "      width: 32px;\n",
              "    }\n",
              "\n",
              "    .colab-df-convert:hover {\n",
              "      background-color: #E2EBFA;\n",
              "      box-shadow: 0px 1px 2px rgba(60, 64, 67, 0.3), 0px 1px 3px 1px rgba(60, 64, 67, 0.15);\n",
              "      fill: #174EA6;\n",
              "    }\n",
              "\n",
              "    .colab-df-buttons div {\n",
              "      margin-bottom: 4px;\n",
              "    }\n",
              "\n",
              "    [theme=dark] .colab-df-convert {\n",
              "      background-color: #3B4455;\n",
              "      fill: #D2E3FC;\n",
              "    }\n",
              "\n",
              "    [theme=dark] .colab-df-convert:hover {\n",
              "      background-color: #434B5C;\n",
              "      box-shadow: 0px 1px 3px 1px rgba(0, 0, 0, 0.15);\n",
              "      filter: drop-shadow(0px 1px 2px rgba(0, 0, 0, 0.3));\n",
              "      fill: #FFFFFF;\n",
              "    }\n",
              "  </style>\n",
              "\n",
              "    <script>\n",
              "      const buttonEl =\n",
              "        document.querySelector('#df-1cd0ed3a-4de4-4c46-b1a4-d36f6ca84dd4 button.colab-df-convert');\n",
              "      buttonEl.style.display =\n",
              "        google.colab.kernel.accessAllowed ? 'block' : 'none';\n",
              "\n",
              "      async function convertToInteractive(key) {\n",
              "        const element = document.querySelector('#df-1cd0ed3a-4de4-4c46-b1a4-d36f6ca84dd4');\n",
              "        const dataTable =\n",
              "          await google.colab.kernel.invokeFunction('convertToInteractive',\n",
              "                                                    [key], {});\n",
              "        if (!dataTable) return;\n",
              "\n",
              "        const docLinkHtml = 'Like what you see? Visit the ' +\n",
              "          '<a target=\"_blank\" href=https://colab.research.google.com/notebooks/data_table.ipynb>data table notebook</a>'\n",
              "          + ' to learn more about interactive tables.';\n",
              "        element.innerHTML = '';\n",
              "        dataTable['output_type'] = 'display_data';\n",
              "        await google.colab.output.renderOutput(dataTable, element);\n",
              "        const docLink = document.createElement('div');\n",
              "        docLink.innerHTML = docLinkHtml;\n",
              "        element.appendChild(docLink);\n",
              "      }\n",
              "    </script>\n",
              "  </div>\n",
              "\n",
              "\n",
              "    <div id=\"df-5a6794ac-510a-43e0-8ba8-f224f65e3239\">\n",
              "      <button class=\"colab-df-quickchart\" onclick=\"quickchart('df-5a6794ac-510a-43e0-8ba8-f224f65e3239')\"\n",
              "                title=\"Suggest charts\"\n",
              "                style=\"display:none;\">\n",
              "\n",
              "<svg xmlns=\"http://www.w3.org/2000/svg\" height=\"24px\"viewBox=\"0 0 24 24\"\n",
              "     width=\"24px\">\n",
              "    <g>\n",
              "        <path d=\"M19 3H5c-1.1 0-2 .9-2 2v14c0 1.1.9 2 2 2h14c1.1 0 2-.9 2-2V5c0-1.1-.9-2-2-2zM9 17H7v-7h2v7zm4 0h-2V7h2v10zm4 0h-2v-4h2v4z\"/>\n",
              "    </g>\n",
              "</svg>\n",
              "      </button>\n",
              "\n",
              "<style>\n",
              "  .colab-df-quickchart {\n",
              "      --bg-color: #E8F0FE;\n",
              "      --fill-color: #1967D2;\n",
              "      --hover-bg-color: #E2EBFA;\n",
              "      --hover-fill-color: #174EA6;\n",
              "      --disabled-fill-color: #AAA;\n",
              "      --disabled-bg-color: #DDD;\n",
              "  }\n",
              "\n",
              "  [theme=dark] .colab-df-quickchart {\n",
              "      --bg-color: #3B4455;\n",
              "      --fill-color: #D2E3FC;\n",
              "      --hover-bg-color: #434B5C;\n",
              "      --hover-fill-color: #FFFFFF;\n",
              "      --disabled-bg-color: #3B4455;\n",
              "      --disabled-fill-color: #666;\n",
              "  }\n",
              "\n",
              "  .colab-df-quickchart {\n",
              "    background-color: var(--bg-color);\n",
              "    border: none;\n",
              "    border-radius: 50%;\n",
              "    cursor: pointer;\n",
              "    display: none;\n",
              "    fill: var(--fill-color);\n",
              "    height: 32px;\n",
              "    padding: 0;\n",
              "    width: 32px;\n",
              "  }\n",
              "\n",
              "  .colab-df-quickchart:hover {\n",
              "    background-color: var(--hover-bg-color);\n",
              "    box-shadow: 0 1px 2px rgba(60, 64, 67, 0.3), 0 1px 3px 1px rgba(60, 64, 67, 0.15);\n",
              "    fill: var(--button-hover-fill-color);\n",
              "  }\n",
              "\n",
              "  .colab-df-quickchart-complete:disabled,\n",
              "  .colab-df-quickchart-complete:disabled:hover {\n",
              "    background-color: var(--disabled-bg-color);\n",
              "    fill: var(--disabled-fill-color);\n",
              "    box-shadow: none;\n",
              "  }\n",
              "\n",
              "  .colab-df-spinner {\n",
              "    border: 2px solid var(--fill-color);\n",
              "    border-color: transparent;\n",
              "    border-bottom-color: var(--fill-color);\n",
              "    animation:\n",
              "      spin 1s steps(1) infinite;\n",
              "  }\n",
              "\n",
              "  @keyframes spin {\n",
              "    0% {\n",
              "      border-color: transparent;\n",
              "      border-bottom-color: var(--fill-color);\n",
              "      border-left-color: var(--fill-color);\n",
              "    }\n",
              "    20% {\n",
              "      border-color: transparent;\n",
              "      border-left-color: var(--fill-color);\n",
              "      border-top-color: var(--fill-color);\n",
              "    }\n",
              "    30% {\n",
              "      border-color: transparent;\n",
              "      border-left-color: var(--fill-color);\n",
              "      border-top-color: var(--fill-color);\n",
              "      border-right-color: var(--fill-color);\n",
              "    }\n",
              "    40% {\n",
              "      border-color: transparent;\n",
              "      border-right-color: var(--fill-color);\n",
              "      border-top-color: var(--fill-color);\n",
              "    }\n",
              "    60% {\n",
              "      border-color: transparent;\n",
              "      border-right-color: var(--fill-color);\n",
              "    }\n",
              "    80% {\n",
              "      border-color: transparent;\n",
              "      border-right-color: var(--fill-color);\n",
              "      border-bottom-color: var(--fill-color);\n",
              "    }\n",
              "    90% {\n",
              "      border-color: transparent;\n",
              "      border-bottom-color: var(--fill-color);\n",
              "    }\n",
              "  }\n",
              "</style>\n",
              "\n",
              "      <script>\n",
              "        async function quickchart(key) {\n",
              "          const quickchartButtonEl =\n",
              "            document.querySelector('#' + key + ' button');\n",
              "          quickchartButtonEl.disabled = true;  // To prevent multiple clicks.\n",
              "          quickchartButtonEl.classList.add('colab-df-spinner');\n",
              "          try {\n",
              "            const charts = await google.colab.kernel.invokeFunction(\n",
              "                'suggestCharts', [key], {});\n",
              "          } catch (error) {\n",
              "            console.error('Error during call to suggestCharts:', error);\n",
              "          }\n",
              "          quickchartButtonEl.classList.remove('colab-df-spinner');\n",
              "          quickchartButtonEl.classList.add('colab-df-quickchart-complete');\n",
              "        }\n",
              "        (() => {\n",
              "          let quickchartButtonEl =\n",
              "            document.querySelector('#df-5a6794ac-510a-43e0-8ba8-f224f65e3239 button');\n",
              "          quickchartButtonEl.style.display =\n",
              "            google.colab.kernel.accessAllowed ? 'block' : 'none';\n",
              "        })();\n",
              "      </script>\n",
              "    </div>\n",
              "\n",
              "    </div>\n",
              "  </div>\n"
            ],
            "application/vnd.google.colaboratory.intrinsic+json": {
              "type": "dataframe"
            }
          },
          "metadata": {}
        },
        {
          "output_type": "stream",
          "name": "stdout",
          "text": [
            "\n",
            " Table information overview:\n",
            "<class 'pandas.core.frame.DataFrame'>\n",
            "RangeIndex: 4755 entries, 0 to 4754\n",
            "Data columns (total 25 columns):\n",
            " #   Column                        Non-Null Count  Dtype  \n",
            "---  ------                        --------------  -----  \n",
            " 0   user_id                       4755 non-null   int64  \n",
            " 1   numconnections                4755 non-null   int64  \n",
            " 2   f_prob                        4755 non-null   float64\n",
            " 3   m_prob                        4755 non-null   float64\n",
            " 4   white_prob                    4755 non-null   float64\n",
            " 5   black_prob                    4755 non-null   float64\n",
            " 6   api_prob                      4755 non-null   float64\n",
            " 7   hispanic_prob                 4755 non-null   float64\n",
            " 8   native_prob                   4755 non-null   float64\n",
            " 9   multiple_prob                 4755 non-null   float64\n",
            " 10  highest_degree                4755 non-null   object \n",
            " 11  currentindustry               4389 non-null   object \n",
            " 12  total_experience_years        4335 non-null   float64\n",
            " 13  company_cleaned               4651 non-null   object \n",
            " 14  region                        4653 non-null   object \n",
            " 15  country                       4653 non-null   object \n",
            " 16  state                         4653 non-null   object \n",
            " 17  city                          4653 non-null   object \n",
            " 18  mapped_role                   4653 non-null   object \n",
            " 19  seniority                     4653 non-null   float64\n",
            " 20  total_compensation            4653 non-null   float64\n",
            " 21  ultimate_parent_company_name  4179 non-null   object \n",
            " 22  campus_cleaned                4519 non-null   object \n",
            " 23  field_raw                     3721 non-null   object \n",
            " 24  degree                        4519 non-null   object \n",
            "dtypes: float64(11), int64(2), object(12)\n",
            "memory usage: 928.8+ KB\n"
          ]
        }
      ]
    },
    {
      "cell_type": "code",
      "source": [
        "missing_values = user_feature_table.isnull().sum()\n",
        "print(missing_values)"
      ],
      "metadata": {
        "colab": {
          "base_uri": "https://localhost:8080/"
        },
        "id": "BuUOAvXT42Yd",
        "outputId": "bf3018c2-f9e4-4395-82ec-abad1e054348"
      },
      "execution_count": 16,
      "outputs": [
        {
          "output_type": "stream",
          "name": "stdout",
          "text": [
            "user_id                            0\n",
            "numconnections                     0\n",
            "f_prob                             0\n",
            "m_prob                             0\n",
            "white_prob                         0\n",
            "black_prob                         0\n",
            "api_prob                           0\n",
            "hispanic_prob                      0\n",
            "native_prob                        0\n",
            "multiple_prob                      0\n",
            "highest_degree                     0\n",
            "currentindustry                  366\n",
            "total_experience_years           420\n",
            "company_cleaned                  104\n",
            "region                           102\n",
            "country                          102\n",
            "state                            102\n",
            "city                             102\n",
            "mapped_role                      102\n",
            "seniority                        102\n",
            "total_compensation               102\n",
            "ultimate_parent_company_name     576\n",
            "campus_cleaned                   236\n",
            "field_raw                       1034\n",
            "degree                           236\n",
            "dtype: int64\n"
          ]
        }
      ]
    },
    {
      "cell_type": "code",
      "source": [
        "# --- 步骤 5: 将最终的特征表保存为CSV文件 ---\n",
        "print(\"Saving the user_feature_table as a CSV file....\")\n",
        "\n",
        "output_filename = 'user_features.csv'\n",
        "\n",
        "user_feature_table.to_csv(output_filename, index=False)\n",
        "\n",
        "print(f\"\\n✅ The file '{output_filename}' has been successfully saved to the current directory in Colab.\")\n",
        "print(\"You can now see it in the 'Files' panel on the left, and right-click to download.\")"
      ],
      "metadata": {
        "colab": {
          "base_uri": "https://localhost:8080/"
        },
        "id": "DEQvRI-A2jNa",
        "outputId": "1e8eb675-1777-416e-dbd1-65c4c930dabc"
      },
      "execution_count": 17,
      "outputs": [
        {
          "output_type": "stream",
          "name": "stdout",
          "text": [
            "Saving the user_feature_table as a CSV file....\n",
            "\n",
            "✅ The file 'user_features.csv' has been successfully saved to the current directory in Colab.\n",
            "You can now see it in the 'Files' panel on the left, and right-click to download.\n"
          ]
        }
      ]
    }
  ]
}